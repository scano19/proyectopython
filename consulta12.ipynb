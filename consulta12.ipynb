{
 "cells": [
  {
   "cell_type": "code",
   "execution_count": 3,
   "id": "c7555eb5",
   "metadata": {},
   "outputs": [
    {
     "name": "stdout",
     "output_type": "stream",
     "text": [
      "[5, 1, 3, 6, 4, 1]\n"
     ]
    }
   ],
   "source": [
    "#genera una función que al recibir una frase devuelva una lista con la longitud de cada palabra\n",
    "def longitud_palabras(frase):\n",
    "    palabras = frase.split()\n",
    "    return list(map(len, palabras))\n",
    "\n",
    "frase = \"Hola, ¿ que tiempo hace ?\"\n",
    "print(longitud_palabras(frase))\n",
    "\n",
    "\n",
    "\n",
    "\n"
   ]
  }
 ],
 "metadata": {
  "kernelspec": {
   "display_name": "Python 3",
   "language": "python",
   "name": "python3"
  },
  "language_info": {
   "codemirror_mode": {
    "name": "ipython",
    "version": 3
   },
   "file_extension": ".py",
   "mimetype": "text/x-python",
   "name": "python",
   "nbconvert_exporter": "python",
   "pygments_lexer": "ipython3",
   "version": "3.13.2"
  }
 },
 "nbformat": 4,
 "nbformat_minor": 5
}
