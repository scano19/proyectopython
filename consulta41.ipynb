{
 "cells": [
  {
   "cell_type": "code",
   "execution_count": 6,
   "id": "4121ba36",
   "metadata": {},
   "outputs": [
    {
     "name": "stdout",
     "output_type": "stream",
     "text": [
      "Precio: 65€, Cupón: no\n",
      "Precio final: 65.00€\n"
     ]
    }
   ],
   "source": [
    "def calcular_precio_final(precio_str, tiene_cupon, cupon_str=None):\n",
    "    try:\n",
    "        # Validamos el precio original\n",
    "        precio = float(precio_str)\n",
    "        if precio < 0:\n",
    "            raise ValueError(\"El precio original no puede ser negativo.\")\n",
    "        \n",
    "        # Validamos la respuesta del cupón\n",
    "        tiene_cupon = tiene_cupon.lower()\n",
    "        if tiene_cupon not in [\"sí\", \"si\", \"no\"]:\n",
    "            raise ValueError(\"Responda 'sí' o 'no' para el cupón.\")\n",
    "        \n",
    "        # Calculamos el precio final\n",
    "        if tiene_cupon in [\"sí\", \"si\"]:\n",
    "            if cupon_str is None:\n",
    "                raise ValueError(\"Debe proporcionar el valor del cupón.\")\n",
    "            cupon = float(cupon_str)\n",
    "            if cupon <= 0:\n",
    "                raise ValueError(\"El cupón debe ser mayor a cero.\")\n",
    "            precio_final = precio - cupon\n",
    "            if precio_final < 0:\n",
    "                precio_final = 0  # El precio no puede ser negativo\n",
    "        else:\n",
    "            precio_final = precio\n",
    "        \n",
    "        return f\"Precio final: {precio_final:.2f}€\"\n",
    "    \n",
    "    except ValueError as e:\n",
    "        return f\"Error: {e}. Por favor, ingrese datos válidos.\"\n",
    "\n",
    "def main():\n",
    "    try:\n",
    "        # Solicitamos el precio original\n",
    "        precio_str = input(\"Ingrese el precio original del artículo (en €): \")\n",
    "        \n",
    "        # Preguntamos por el cupón\n",
    "        tiene_cupon = input(\"¿Tiene un cupón de descuento? (sí/no): \")\n",
    "        \n",
    "        # Solicitamos el valor del cupón si es necesario\n",
    "        if tiene_cupon.lower() in [\"sí\", \"si\"]:\n",
    "            cupon_str = input(\"Ingrese el valor del cupón (en €): \")\n",
    "            print(f\"Precio: {precio_str}€, Cupón: {tiene_cupon}, Valor cupón: {cupon_str}\")\n",
    "            print(calcular_precio_final(precio_str, tiene_cupon, cupon_str))\n",
    "        else:\n",
    "            print(f\"Precio: {precio_str}€, Cupón: {tiene_cupon}\")\n",
    "            print(calcular_precio_final(precio_str, tiene_cupon))\n",
    "    \n",
    "    except Exception as e:\n",
    "        print(f\"Error en el programa: {e}\")\n",
    "\n",
    "main()  \n"
   ]
  }
 ],
 "metadata": {
  "kernelspec": {
   "display_name": "Python 3",
   "language": "python",
   "name": "python3"
  },
  "language_info": {
   "codemirror_mode": {
    "name": "ipython",
    "version": 3
   },
   "file_extension": ".py",
   "mimetype": "text/x-python",
   "name": "python",
   "nbconvert_exporter": "python",
   "pygments_lexer": "ipython3",
   "version": "3.13.2"
  }
 },
 "nbformat": 4,
 "nbformat_minor": 5
}
