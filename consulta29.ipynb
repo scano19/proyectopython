{
 "cells": [
  {
   "cell_type": "code",
   "execution_count": 2,
   "id": "fa133937",
   "metadata": {},
   "outputs": [
    {
     "name": "stdout",
     "output_type": "stream",
     "text": [
      "123456\n",
      "1#2#3456\n"
     ]
    }
   ],
   "source": [
    "#crea una función que convierta una variable en una cadena de texto\n",
    "def convertir_a_cadena(variable):\n",
    "    \"\"\"convierte una variable en una cadena de texto\"\"\"\n",
    "    return str(variable)\n",
    "def formatear_numero_con_hash(numero):\n",
    "    \"\"\"formatea un número agregando '#' entre cada dígito, excepto en los últimos\n",
    "    cuatro\"\"\"\n",
    "    cadena = str(numero)\n",
    "    if len(cadena) <= 4:\n",
    "        return cadena\n",
    "    parte_inicial = cadena[:-4]\n",
    "    parte_final = cadena[-4:]\n",
    "    parte_formateada = '#'.join(parte_inicial)\n",
    "    return parte_formateada + '#' + parte_final\n",
    "variable = 123456\n",
    "print(convertir_a_cadena(variable))\n",
    "print(formatear_numero_con_hash(variable))\n"
   ]
  }
 ],
 "metadata": {
  "kernelspec": {
   "display_name": "Python 3",
   "language": "python",
   "name": "python3"
  },
  "language_info": {
   "codemirror_mode": {
    "name": "ipython",
    "version": 3
   },
   "file_extension": ".py",
   "mimetype": "text/x-python",
   "name": "python",
   "nbconvert_exporter": "python",
   "pygments_lexer": "ipython3",
   "version": "3.13.7"
  }
 },
 "nbformat": 4,
 "nbformat_minor": 5
}
