{
 "cells": [
  {
   "cell_type": "code",
   "execution_count": 4,
   "id": "79de9795",
   "metadata": {},
   "outputs": [
    {
     "name": "stdout",
     "output_type": "stream",
     "text": [
      "El promedio es: 22.8\n"
     ]
    }
   ],
   "source": [
    "#escribe una función que reciba una lista de numeros y calcule su promedio\n",
    "def calcular_promedio(lista_numeros):\n",
    "    if not lista_numeros:\n",
    "        return \"La lista está vacía.\"\n",
    "    suma = sum(lista_numeros)\n",
    "    promedio = suma / len(lista_numeros)\n",
    "    return f\"El promedio es: {promedio}\"\n",
    "\n",
    "numeros = [6, 13, 20, 36, 39]\n",
    "print(calcular_promedio(numeros))"
   ]
  }
 ],
 "metadata": {
  "kernelspec": {
   "display_name": "Python 3",
   "language": "python",
   "name": "python3"
  },
  "language_info": {
   "codemirror_mode": {
    "name": "ipython",
    "version": 3
   },
   "file_extension": ".py",
   "mimetype": "text/x-python",
   "name": "python",
   "nbconvert_exporter": "python",
   "pygments_lexer": "ipython3",
   "version": "3.13.2"
  }
 },
 "nbformat": 4,
 "nbformat_minor": 5
}
