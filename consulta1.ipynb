{
 "cells": [
  {
   "cell_type": "code",
   "execution_count": 1,
   "id": "a02c92c4",
   "metadata": {},
   "outputs": [
    {
     "name": "stdout",
     "output_type": "stream",
     "text": [
      "Las frecuencias de las letras son: {'h': 1, 'o': 1, 'l': 2, 'a': 2, 'q': 1, 'u': 1, 'e': 1, 't': 1}\n",
      "'a': 2\n",
      "'e': 1\n",
      "'h': 1\n",
      "'l': 2\n",
      "'o': 1\n",
      "'q': 1\n",
      "'t': 1\n",
      "'u': 1\n"
     ]
    }
   ],
   "source": [
    "def repetición_letras(texto):\n",
    "    \"\"\"\n",
    "    Calcula la repetición de cada letra en una cadena de texto.\n",
    "\n",
    "    Args:\n",
    "        texto (str): La cadena de texto a analizar.\n",
    "\n",
    "    Returns:\n",
    "        dict: Un diccionario donde las claves son las letras y los valores son sus frecuencias.\n",
    "    \"\"\"\n",
    "    repetición = {}  # Inicializamos un diccionario vacío para guardar las frecuencias.\n",
    "\n",
    "    # Convertimos la cadena a minúsculas para contar 'A' y 'a' como la misma letra.\n",
    "    texto = texto.lower()\n",
    "\n",
    "    for caracter in texto:\n",
    "            #ignorar espacios\n",
    "        if caracter != ' ':\n",
    "            # Verificamos si esta la letra en el diccionario y la sumamos\n",
    "            if caracter in repetición:\n",
    "                repetición[caracter] += 1\n",
    "            # Si no, la agregamos al diccionario con un valor inicial de 1.\n",
    "            else:\n",
    "                repetición[caracter] = 1\n",
    "\n",
    "    return repetición\n",
    "\n",
    "# pedir el texto al usuario\n",
    "texto = input(\"ingresa un texto: \")\n",
    "# llamar a la función y mostrar resultado\n",
    "resultado = repetición_letras(texto)\n",
    "print(f\"Las frecuencias de las letras son: {resultado}\")\n",
    "#mostrar el resultado de forma más legible, ordenado por carácter\n",
    "for caracter, frecuencia in sorted(resultado.items()):\n",
    "    print(f\"'{caracter}': {frecuencia}\")\n",
    "\n"
   ]
  }
 ],
 "metadata": {
  "kernelspec": {
   "display_name": "Python 3",
   "language": "python",
   "name": "python3"
  },
  "language_info": {
   "codemirror_mode": {
    "name": "ipython",
    "version": 3
   },
   "file_extension": ".py",
   "mimetype": "text/x-python",
   "name": "python",
   "nbconvert_exporter": "python",
   "pygments_lexer": "ipython3",
   "version": "3.13.2"
  }
 },
 "nbformat": 4,
 "nbformat_minor": 5
}
