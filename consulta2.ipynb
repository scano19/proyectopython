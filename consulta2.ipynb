{
 "cells": [
  {
   "cell_type": "code",
   "execution_count": 1,
   "id": "50cb3466",
   "metadata": {},
   "outputs": [
    {
     "name": "stdout",
     "output_type": "stream",
     "text": [
      "la lista de numeros antes de elevar: [1, 2, 3, 4, 5, 6, 7, 8, 9]\n",
      "la lista de numeros despues de elevar: [1, 4, 9, 16, 25, 36, 49, 64, 81]\n",
      "la lista de numeros despues de elevar con la funcion sqr: [1, 4, 9, 16, 25, 36, 49, 64, 81]\n"
     ]
    }
   ],
   "source": [
    "numeros = [1, 2, 3, 4, 5,6,7,8,9]\n",
    "print(f'la lista de numeros antes de elevar: {numeros}')\n",
    "resultado = list(map(lambda x: x**2, numeros))\n",
    "print(f'la lista de numeros despues de elevar: {resultado}')\n",
    "# definimos una funcion sqr que eleva al cuadrado\n",
    "# de cada elemento de la lista numeros\n",
    "def sqr(x):\n",
    "    return x**2\n",
    "resultado2 =list(map(sqr,numeros))\n",
    "print(f'la lista de numeros despues de elevar con la funcion sqr: {resultado2}')"
   ]
  }
 ],
 "metadata": {
  "kernelspec": {
   "display_name": "Python 3",
   "language": "python",
   "name": "python3"
  },
  "language_info": {
   "codemirror_mode": {
    "name": "ipython",
    "version": 3
   },
   "file_extension": ".py",
   "mimetype": "text/x-python",
   "name": "python",
   "nbconvert_exporter": "python",
   "pygments_lexer": "ipython3",
   "version": "3.13.2"
  }
 },
 "nbformat": 4,
 "nbformat_minor": 5
}
