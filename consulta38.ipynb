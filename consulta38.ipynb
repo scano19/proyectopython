{
 "cells": [
  {
   "cell_type": "code",
   "execution_count": 6,
   "id": "c90dde97",
   "metadata": {},
   "outputs": [
    {
     "name": "stdout",
     "output_type": "stream",
     "text": [
      "Es de tarde.\n"
     ]
    }
   ],
   "source": [
    "def determinar_momento_dia(hora_str):\n",
    "    try:\n",
    "        # Dividimos la entrada en horas y minutos\n",
    "        horas, minutos = map(int, hora_str.split(':'))\n",
    "        \n",
    "        # Validamos rangos\n",
    "        if not (0 <= horas <= 23 and 0 <= minutos <= 59):\n",
    "            raise ValueError(\"Hora o minutos fuera de rango. Use formato HH:MM (24 horas).\")\n",
    "        \n",
    "        # Convertimos a minutos totales para facilitar comparación\n",
    "        minutos_totales = horas * 60 + minutos\n",
    "        \n",
    "        # Definimos rangos en minutos\n",
    "        # Día: 8:00 (480 min) - 17:59 (719 min)\n",
    "        # Tarde: 18:00 (720 min) - 21:59 (1199 min)\n",
    "        # Noche: 22:00 (1200 min) - 7:59 (359 min)\n",
    "        if 480 <= minutos_totales <= 719:\n",
    "            return \"Es de día.\"\n",
    "        elif 720 <= minutos_totales <= 1199:\n",
    "            return \"Es de tarde.\"\n",
    "        else:\n",
    "            return \"Es de noche.\"\n",
    "    \n",
    "    except ValueError as e:\n",
    "        return f\"Error: {e}. Por favor, ingrese la hora en formato HH:MM (por ejemplo, 14:30).\"\n",
    "\n",
    "# Programa principal\n",
    "def main():\n",
    "    # Solicitamos la hora al usuario\n",
    "    hora_str = input(\"Ingrese la hora en formato HH:MM (24 horas): \")\n",
    "    print(determinar_momento_dia(hora_str))\n",
    "\n",
    "# Ejecutar el programa\n",
    "main()\n",
    "\n",
    "    "
   ]
  },
  {
   "cell_type": "code",
   "execution_count": null,
   "id": "d9d66dcb",
   "metadata": {},
   "outputs": [],
   "source": []
  }
 ],
 "metadata": {
  "kernelspec": {
   "display_name": "Python 3",
   "language": "python",
   "name": "python3"
  },
  "language_info": {
   "codemirror_mode": {
    "name": "ipython",
    "version": 3
   },
   "file_extension": ".py",
   "mimetype": "text/x-python",
   "name": "python",
   "nbconvert_exporter": "python",
   "pygments_lexer": "ipython3",
   "version": "3.13.2"
  }
 },
 "nbformat": 4,
 "nbformat_minor": 5
}
