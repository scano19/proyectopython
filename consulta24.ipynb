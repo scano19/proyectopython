{
 "cells": [
  {
   "cell_type": "code",
   "execution_count": null,
   "id": "d8c927b7",
   "metadata": {},
   "outputs": [],
   "source": [
    "#calcula la diferencia total de una lista de valores\n",
    "from functools import reduce\n",
    "def diferencia_total_consecutiva(lista_valores):\n",
    "    if len(lista_valores)<2:\n",
    "        return 0\n",
    "    diferencias =[abs(lista_valores[i] - lista_valores[i-1]) for i in range (1,len(lista_valores))]\n",
    "    return sum(diferencias)\n"
   ]
  }
 ],
 "metadata": {
  "kernelspec": {
   "display_name": "Python 3",
   "language": "python",
   "name": "python3"
  },
  "language_info": {
   "codemirror_mode": {
    "name": "ipython",
    "version": 3
   },
   "file_extension": ".py",
   "mimetype": "text/x-python",
   "name": "python",
   "nbconvert_exporter": "python",
   "pygments_lexer": "ipython3",
   "version": "3.13.7"
  }
 },
 "nbformat": 4,
 "nbformat_minor": 5
}
