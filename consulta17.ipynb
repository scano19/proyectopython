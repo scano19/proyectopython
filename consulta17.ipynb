{
 "cells": [
  {
   "cell_type": "code",
   "execution_count": 7,
   "id": "3ea6ee2e",
   "metadata": {},
   "outputs": [
    {
     "name": "stdout",
     "output_type": "stream",
     "text": [
      "5724\n"
     ]
    }
   ],
   "source": [
    "from functools import reduce\n",
    "\n",
    "def unir_digitos(lista_numeros):\n",
    "    # Usamos reduce para concatenar los números como strings\n",
    "    resultado = reduce(lambda x, y: str(x) + str(y), lista_numeros)\n",
    "    # Convertimos el string resultante a entero\n",
    "    return int(resultado)\n",
    "\n",
    "# Ejemplo\n",
    "lista_numeros = [5, 7, 2, 4]\n",
    "print(unir_digitos(lista_numeros))"
   ]
  }
 ],
 "metadata": {
  "kernelspec": {
   "display_name": "Python 3",
   "language": "python",
   "name": "python3"
  },
  "language_info": {
   "codemirror_mode": {
    "name": "ipython",
    "version": 3
   },
   "file_extension": ".py",
   "mimetype": "text/x-python",
   "name": "python",
   "nbconvert_exporter": "python",
   "pygments_lexer": "ipython3",
   "version": "3.13.2"
  }
 },
 "nbformat": 4,
 "nbformat_minor": 5
}
