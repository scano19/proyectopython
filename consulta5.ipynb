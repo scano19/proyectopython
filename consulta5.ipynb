{
 "cells": [
  {
   "cell_type": "code",
   "execution_count": 3,
   "id": "5d88f94b",
   "metadata": {},
   "outputs": [
    {
     "name": "stdout",
     "output_type": "stream",
     "text": [
      "(6.0, 'Aprobado')\n"
     ]
    }
   ],
   "source": [
    "#escribe una función que tome una lista de números como parametro y un valor opcional nota_aprobado, que por defecto es 5\n",
    "def filtrar_aprobados(notas, nota_aprobado=5):\n",
    "    media = sum(notas) / len(notas) if notas else 0\n",
    "    \n",
    "# si la media es mayor que la nota_aprobado, aparece aprobado sino suspenso, devolver en una tupla la media y el estado\n",
    "    return (media, \"Aprobado\" if media >= nota_aprobado else \"Suspenso\")\n",
    "\n",
    "notas = [6, 7, 8, 5, 4]\n",
    "print(filtrar_aprobados(notas))  # Debería imprimir (6.0, 'Aprobado')\n"
   ]
  }
 ],
 "metadata": {
  "kernelspec": {
   "display_name": "Python 3",
   "language": "python",
   "name": "python3"
  },
  "language_info": {
   "codemirror_mode": {
    "name": "ipython",
    "version": 3
   },
   "file_extension": ".py",
   "mimetype": "text/x-python",
   "name": "python",
   "nbconvert_exporter": "python",
   "pygments_lexer": "ipython3",
   "version": "3.13.2"
  }
 },
 "nbformat": 4,
 "nbformat_minor": 5
}
