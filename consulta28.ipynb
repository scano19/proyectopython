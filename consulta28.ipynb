{
 "cells": [
  {
   "cell_type": "code",
   "execution_count": 11,
   "id": "b397dd62",
   "metadata": {},
   "outputs": [
    {
     "name": "stdout",
     "output_type": "stream",
     "text": [
      "7\n"
     ]
    }
   ],
   "source": [
    "#crea una función que busque y devuelva el primer elemento duplicado en una lista dada\n",
    "def encontrar_duplicado(lista):\n",
    "    elementos_vistos = []\n",
    "    for elemento in lista:\n",
    "        if elemento in elementos_vistos:\n",
    "            return elemento\n",
    "        else:\n",
    "            elementos_vistos.append(elemento)\n",
    "    return None\n",
    "lista = [1,\"hola\", 7, 15, 5, 7, 3, \"maria\",\"hola\"]\n",
    "print(encontrar_duplicado(lista))"
   ]
  }
 ],
 "metadata": {
  "kernelspec": {
   "display_name": "Python 3",
   "language": "python",
   "name": "python3"
  },
  "language_info": {
   "codemirror_mode": {
    "name": "ipython",
    "version": 3
   },
   "file_extension": ".py",
   "mimetype": "text/x-python",
   "name": "python",
   "nbconvert_exporter": "python",
   "pygments_lexer": "ipython3",
   "version": "3.13.2"
  }
 },
 "nbformat": 4,
 "nbformat_minor": 5
}
