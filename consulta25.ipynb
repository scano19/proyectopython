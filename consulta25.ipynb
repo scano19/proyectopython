{
 "cells": [
  {
   "cell_type": "code",
   "execution_count": null,
   "id": "8ac0b0b9",
   "metadata": {},
   "outputs": [
    {
     "name": "stdout",
     "output_type": "stream",
     "text": [
      "21\n"
     ]
    }
   ],
   "source": [
    "#crea una función que cuente el número de caracteres en una cadena de texto\n",
    "\n",
    "#retorna el número de caracteres\n",
    "def contar_caracteres(cadena):\n",
    "        return len(cadena)\n",
    "\n",
    "cadena = \"hola, que tal estamos\"\n",
    "print (contar_caracteres(cadena))"
   ]
  }
 ],
 "metadata": {
  "kernelspec": {
   "display_name": "Python 3",
   "language": "python",
   "name": "python3"
  },
  "language_info": {
   "codemirror_mode": {
    "name": "ipython",
    "version": 3
   },
   "file_extension": ".py",
   "mimetype": "text/x-python",
   "name": "python",
   "nbconvert_exporter": "python",
   "pygments_lexer": "ipython3",
   "version": "3.13.2"
  }
 },
 "nbformat": 4,
 "nbformat_minor": 5
}
