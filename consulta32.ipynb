{
 "cells": [
  {
   "cell_type": "code",
   "execution_count": 1,
   "id": "5c472f28",
   "metadata": {},
   "outputs": [
    {
     "name": "stdout",
     "output_type": "stream",
     "text": [
      "analista de datos\n",
      "Pedro Sánchez no trabaja aquí.\n"
     ]
    }
   ],
   "source": [
    "def buscar_puesto(nombre_completo, lista_empleados):\n",
    "    # Normalizamos el nombre completo a minúsculas\n",
    "    nombre_completo = nombre_completo.lower()\n",
    "\n",
    "    # Buscamos el nombre en la lista. [0] es el nombre y [1] es el puesto\n",
    "    for empleado in lista_empleados:\n",
    "        if empleado[0].lower() == nombre_completo:\n",
    "            return empleado[1]\n",
    "    \n",
    "    # Si no se encuentra, devolvemos el mensaje\n",
    "    return f\"{nombre_completo.title()} no trabaja aquí.\"\n",
    "\n",
    "# Ejemplo\n",
    "lista_empleados = [\n",
    "    (\"Maria\", \"analista de datos\"),\n",
    "    (\"Juan\", \"director marketing\"),\n",
    "    (\"jose luis\", \"director financiero\")\n",
    "]\n",
    "nombre = \"Maria\"\n",
    "print(buscar_puesto(nombre, lista_empleados))\n",
    "nombre = \"Pedro Sánchez\"\n",
    "print(buscar_puesto(nombre, lista_empleados))"
   ]
  }
 ],
 "metadata": {
  "kernelspec": {
   "display_name": "Python 3",
   "language": "python",
   "name": "python3"
  },
  "language_info": {
   "codemirror_mode": {
    "name": "ipython",
    "version": 3
   },
   "file_extension": ".py",
   "mimetype": "text/x-python",
   "name": "python",
   "nbconvert_exporter": "python",
   "pygments_lexer": "ipython3",
   "version": "3.13.2"
  }
 },
 "nbformat": 4,
 "nbformat_minor": 5
}
