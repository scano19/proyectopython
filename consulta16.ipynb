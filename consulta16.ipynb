{
 "cells": [
  {
   "cell_type": "code",
   "execution_count": 3,
   "id": "17b4d513",
   "metadata": {},
   "outputs": [
    {
     "name": "stdout",
     "output_type": "stream",
     "text": [
      "['otro', 'zorro', 'montañas', 'rocosas']\n"
     ]
    }
   ],
   "source": [
    "#define una función que tome una cadena de texto y un numero n\n",
    "def palabras_mayores_(texto, n):\n",
    "    \n",
    "    return list(filter(lambda x: len(x) > n, texto.split()))\n",
    "\n",
    "texto = \" el otro día vi un zorro en las montañas rocosas\"\n",
    "print(palabras_mayores_(texto, 3))"
   ]
  }
 ],
 "metadata": {
  "kernelspec": {
   "display_name": "Python 3",
   "language": "python",
   "name": "python3"
  },
  "language_info": {
   "codemirror_mode": {
    "name": "ipython",
    "version": 3
   },
   "file_extension": ".py",
   "mimetype": "text/x-python",
   "name": "python",
   "nbconvert_exporter": "python",
   "pygments_lexer": "ipython3",
   "version": "3.13.2"
  }
 },
 "nbformat": 4,
 "nbformat_minor": 5
}
