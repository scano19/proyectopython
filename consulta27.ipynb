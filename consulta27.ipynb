{
 "cells": [
  {
   "cell_type": "code",
   "execution_count": 2,
   "id": "b9a876e3",
   "metadata": {},
   "outputs": [
    {
     "name": "stdout",
     "output_type": "stream",
     "text": [
      "203.6\n"
     ]
    }
   ],
   "source": [
    "#crea una función que calcule el promedio de una lista de numeros\n",
    "def calcular_promedio(lista):\n",
    "    return sum(lista) / len(lista) if lista else 0\n",
    "\n",
    "lista = [17, 206, 305, 30, 460]\n",
    "print(calcular_promedio(lista))"
   ]
  }
 ],
 "metadata": {
  "kernelspec": {
   "display_name": "Python 3",
   "language": "python",
   "name": "python3"
  },
  "language_info": {
   "codemirror_mode": {
    "name": "ipython",
    "version": 3
   },
   "file_extension": ".py",
   "mimetype": "text/x-python",
   "name": "python",
   "nbconvert_exporter": "python",
   "pygments_lexer": "ipython3",
   "version": "3.13.2"
  }
 },
 "nbformat": 4,
 "nbformat_minor": 5
}
