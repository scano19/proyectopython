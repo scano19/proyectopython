{
 "cells": [
  {
   "cell_type": "code",
   "execution_count": 9,
   "id": "bd904651",
   "metadata": {},
   "outputs": [
    {
     "name": "stdout",
     "output_type": "stream",
     "text": [
      "Estas palabras son anagramas: True\n"
     ]
    }
   ],
   "source": [
    "def son_anagramas(palabra1, palabra2):\n",
    "    # Convertimos a minúsculas y eliminamos caracteres no alfabéticos\n",
    "    palabra1 = ''.join(c.lower() for c in palabra1 if c.isalpha())\n",
    "    palabra2 = ''.join(c.lower() for c in palabra2 if c.isalpha())\n",
    "\n",
    "    # verificamos si las palabras son identicas\n",
    "    if palabra1 == palabra2:\n",
    "        return False\n",
    "    # Verificamos si las palabras tienen la misma longitud\n",
    "    if len(palabra1) != len(palabra2):\n",
    "        return False\n",
    "    \n",
    "    # Ordenamos las letras y comparamos\n",
    "    return sorted(palabra1) == sorted(palabra2)\n",
    "\n",
    "palabra1 = \"hola\"\n",
    "palabra2 = \"ALOH\"\n",
    "print(\"Estas palabras son anagramas:\", son_anagramas(palabra1, palabra2))"
   ]
  },
  {
   "cell_type": "code",
   "execution_count": 3,
   "id": "ba65a1a0",
   "metadata": {},
   "outputs": [
    {
     "name": "stdout",
     "output_type": "stream",
     "text": [
      "Estas palabras son anagramas: True\n"
     ]
    }
   ],
   "source": [
    "def mismas_letras(cadena1, cadena2):\n",
    "    # Compara las letras de ambas cadenas, si son iguales pero en diferente orden\n",
    "      return sorted(cadena1) == sorted(cadena2)\n",
    "cadena1 = \"hola\"\n",
    "cadena2 = \"hola\" \n",
    "\n",
    "print(\"Estas palabras son anagramas:\", mismas_letras(cadena1, cadena2))\n"
   ]
  }
 ],
 "metadata": {
  "kernelspec": {
   "display_name": "Python 3",
   "language": "python",
   "name": "python3"
  },
  "language_info": {
   "codemirror_mode": {
    "name": "ipython",
    "version": 3
   },
   "file_extension": ".py",
   "mimetype": "text/x-python",
   "name": "python",
   "nbconvert_exporter": "python",
   "pygments_lexer": "ipython3",
   "version": "3.13.2"
  }
 },
 "nbformat": 4,
 "nbformat_minor": 5
}
