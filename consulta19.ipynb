{
 "cells": [
  {
   "cell_type": "code",
   "execution_count": 3,
   "id": "60d90a4f",
   "metadata": {},
   "outputs": [
    {
     "name": "stdout",
     "output_type": "stream",
     "text": [
      "[5, 7]\n"
     ]
    }
   ],
   "source": [
    "#lista de numeros\n",
    "lista_numeros = [5, 7, 2, 4]\n",
    "#una función con filter para los numeros impares\n",
    "def numeros_impares(lista_numeros):\n",
    "    return list(filter(lambda x: x % 2 != 0, lista_numeros))\n",
    "print (numeros_impares(lista_numeros))"
   ]
  }
 ],
 "metadata": {
  "kernelspec": {
   "display_name": "Python 3",
   "language": "python",
   "name": "python3"
  },
  "language_info": {
   "codemirror_mode": {
    "name": "ipython",
    "version": 3
   },
   "file_extension": ".py",
   "mimetype": "text/x-python",
   "name": "python",
   "nbconvert_exporter": "python",
   "pygments_lexer": "ipython3",
   "version": "3.13.2"
  }
 },
 "nbformat": 4,
 "nbformat_minor": 5
}
