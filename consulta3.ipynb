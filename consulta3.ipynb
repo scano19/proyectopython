{
 "cells": [
  {
   "cell_type": "code",
   "execution_count": null,
   "id": "7e467821",
   "metadata": {},
   "outputs": [
    {
     "name": "stdout",
     "output_type": "stream",
     "text": [
      "['banana']\n",
      "[]\n"
     ]
    }
   ],
   "source": [
    "def buscar_palabra_objetivo (lista_palabras,objetivo):\n",
    "   \n",
    "    # devolver una lista con las palabras que contienen la palabra objetivo\n",
    "        \n",
    "    return [palabra for palabra in lista_palabras if objetivo.lower() in palabra.lower()]\n",
    "lista_palabras = [\"manzana\", \"banana\", \"cereza\"]\n",
    "objetivo = \"banana\"\n",
    "print(buscar_palabra_objetivo(lista_palabras, objetivo))\n",
    "print(buscar_palabra_objetivo(lista_palabras, \"uva\"))\n"
   ]
  },
  {
   "cell_type": "code",
   "execution_count": 1,
   "id": "dcb657fd",
   "metadata": {},
   "outputs": [
    {
     "name": "stdout",
     "output_type": "stream",
     "text": [
      "Lista original: ['Sol', 'Alcohol', 'aventura', 'Luna', 'Alcoholismo']\n",
      "Palabra objetivo: sol\n",
      "Palabras que contienen la palabra objetivo: ['Sol']\n"
     ]
    }
   ],
   "source": [
    "# Función para encontrar palabras que contengan la palabra objetivo usando filter()\n",
    "def encontrar_palabras_con_objetivo(lista_palabras, objetivo):\n",
    "    # Definir una función auxiliar para filter()\n",
    "    def contiene_objetivo(palabra):\n",
    "        return objetivo.lower() in palabra.lower()\n",
    "    \n",
    "    # Usar filter() para seleccionar palabras que contengan la palabra objetivo\n",
    "    return list(filter(contiene_objetivo, lista_palabras))\n",
    "\n",
    "lista_palabras = [\"Sol\", \"Alcohol\", \"aventura\", \"Luna\", \"Alcoholismo\"]\n",
    "objetivo = \"sol\"\n",
    "\n",
    "# Llamar a la función y mostrar resultados\n",
    "resultado = encontrar_palabras_con_objetivo(lista_palabras, objetivo)\n",
    "print(\"Lista original:\", lista_palabras)\n",
    "print(\"Palabra objetivo:\", objetivo)\n",
    "print(\"Palabras que contienen la palabra objetivo:\", resultado)"
   ]
  },
  {
   "cell_type": "code",
   "execution_count": 1,
   "metadata": {},
   "outputs": [
    {
     "name": "stdout",
     "output_type": "stream",
     "text": [
      "Lista original: ['Sol', 'Alcohol', 'aventura', 'Luna', 'Alcoholismo']\n",
      "Palabra objetivo: sol\n",
      "Palabras que contienen la palabra objetivo: ['Sol']\n"
     ]
    }
   ],
   "source": [
    "def encontrar_palabras_con_objetivo(lista_palabras, objetivo):\n",
    "    # usar filter con una función lambda\n",
    "    return list(filter(lambda palabra: objetivo.lower() in palabra.lower(), lista_palabras))\n",
    "#asignar palabras a lista_palabras\n",
    "lista_palabras = [\"Sol\", \"Alcohol\", \"aventura\", \"Luna\", \"Alcoholismo\"]\n",
    "objetivo = \"sol\"\n",
    "\n",
    "# Llamar a la función y mostrar resultados\n",
    "resultado = encontrar_palabras_con_objetivo(lista_palabras, objetivo)\n",
    "print(\"Lista original:\", lista_palabras)\n",
    "print(\"Palabra objetivo:\", objetivo)\n",
    "print(\"Palabras que contienen la palabra objetivo:\", resultado)"
   ]
  }
 ],
 "metadata": {
  "kernelspec": {
   "display_name": "Python 3",
   "language": "python",
   "name": "python3"
  },
  "language_info": {
   "codemirror_mode": {
    "name": "ipython",
    "version": 3
   },
   "file_extension": ".py",
   "mimetype": "text/x-python",
   "name": "python",
   "nbconvert_exporter": "python",
   "pygments_lexer": "ipython3",
   "version": "3.13.2"
  }
 },
 "nbformat": 4,
 "nbformat_minor": 5
}
