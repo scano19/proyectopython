{
 "cells": [
  {
   "cell_type": "code",
   "execution_count": 2,
   "id": "0fff378d",
   "metadata": {},
   "outputs": [
    {
     "name": "stdout",
     "output_type": "stream",
     "text": [
      "6806800\n"
     ]
    }
   ],
   "source": [
    "#dada una lista númerica, obten el producto total de los valores de dicha lista\n",
    "#hay que introducir reduce\n",
    "from functools import reduce\n",
    "lista_numerica = [25, 28, 13, 374, 2]\n",
    "producto_total = reduce(lambda x, y: x * y, lista_numerica)\n",
    "print(producto_total)"
   ]
  }
 ],
 "metadata": {
  "kernelspec": {
   "display_name": "Python 3",
   "language": "python",
   "name": "python3"
  },
  "language_info": {
   "codemirror_mode": {
    "name": "ipython",
    "version": 3
   },
   "file_extension": ".py",
   "mimetype": "text/x-python",
   "name": "python",
   "nbconvert_exporter": "python",
   "pygments_lexer": "ipython3",
   "version": "3.13.2"
  }
 },
 "nbformat": 4,
 "nbformat_minor": 5
}
