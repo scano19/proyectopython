{
 "cells": [
  {
   "cell_type": "code",
   "execution_count": 1,
   "id": "f2cf596e",
   "metadata": {},
   "outputs": [
    {
     "name": "stdout",
     "output_type": "stream",
     "text": [
      "[1, 3, 5]\n"
     ]
    }
   ],
   "source": [
    "#para una lista integer y string obten una nueva lista solo con los valores int.\n",
    "lista_mixta = [1, \"dos\", 3, \"cuatro\", 5]\n",
    "lista_enteros = list(filter(lambda x: isinstance(x, int), lista_mixta))\n",
    "print(lista_enteros)"
   ]
  }
 ],
 "metadata": {
  "kernelspec": {
   "display_name": "Python 3",
   "language": "python",
   "name": "python3"
  },
  "language_info": {
   "codemirror_mode": {
    "name": "ipython",
    "version": 3
   },
   "file_extension": ".py",
   "mimetype": "text/x-python",
   "name": "python",
   "nbconvert_exporter": "python",
   "pygments_lexer": "ipython3",
   "version": "3.13.2"
  }
 },
 "nbformat": 4,
 "nbformat_minor": 5
}
