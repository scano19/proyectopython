{
 "cells": [
  {
   "cell_type": "code",
   "execution_count": 7,
   "id": "4881295c",
   "metadata": {},
   "outputs": [
    {
     "name": "stdout",
     "output_type": "stream",
     "text": [
      "Longitud del tronco: 2\n",
      "Número de ramas: 2\n",
      "Longitudes de las ramas: [2, 1]\n"
     ]
    }
   ],
   "source": [
    "class Arbol:\n",
    "    def __init__(self, tronco=1, ramas=None):\n",
    "        # 1. Inicializamos con valores por defecto: tronco=1, ramas=[]\n",
    "        self.tronco = tronco\n",
    "        self.ramas = ramas if ramas is not None else []\n",
    "        # 2. Aumentamos la longitud del tronco en 1\n",
    "    def crecer_tronco(self):\n",
    "        self.tronco += 1\n",
    "        # 3. Añadimos una nueva rama con longitud 1\n",
    "    def nueva_rama(self):\n",
    "        self.ramas.append(1)\n",
    "        # 4. Aumentamos la longitud de todas las ramas en 1\n",
    "    def crecer_ramas(self):\n",
    "        self.ramas = [rama + 1 for rama in self.ramas]\n",
    "        # 5. Eliminamos la rama en la posición dada\n",
    "    def quitar_rama(self, posicion):\n",
    "        if 0 <= posicion < len(self.ramas):\n",
    "            self.ramas.pop(posicion)\n",
    "        else:\n",
    "            raise IndexError(\"Posición de rama inválida\")\n",
    "        # 6. Devolvemos información sobre el árbol\n",
    "    def info_arbol(self):\n",
    "        return (f\"Longitud del tronco: {self.tronco}\\n\"\n",
    "                f\"Número de ramas: {len(self.ramas)}\\n\"\n",
    "                f\"Longitudes de las ramas: {self.ramas}\")\n",
    "\n",
    "# Caso de uso\n",
    "def caso_uso():\n",
    "    # 1. Crear un árbol con valores por defecto\n",
    "    arbol = Arbol()  # Equivale a Arbol(tronco=1, ramas=[])\n",
    "    \n",
    "    # 2. Hacer crecer el tronco una unidad\n",
    "    arbol.crecer_tronco()\n",
    "    \n",
    "    # 3. Añadir una nueva rama\n",
    "    arbol.nueva_rama()\n",
    "    \n",
    "    # 4. Hacer crecer todas las ramas\n",
    "    arbol.crecer_ramas()\n",
    "    \n",
    "    # 5. Añadir dos nuevas ramas\n",
    "    arbol.nueva_rama()\n",
    "    arbol.nueva_rama()\n",
    "    \n",
    "    # 6. Retirar la rama en la posición 2\n",
    "    arbol.quitar_rama(2)\n",
    "    \n",
    "    # 7. Obtener información del árbol\n",
    "    print(arbol.info_arbol())\n",
    "\n",
    "# Ejecutar el caso de uso\n",
    "caso_uso()\n"
   ]
  }
 ],
 "metadata": {
  "kernelspec": {
   "display_name": "Python 3",
   "language": "python",
   "name": "python3"
  },
  "language_info": {
   "codemirror_mode": {
    "name": "ipython",
    "version": 3
   },
   "file_extension": ".py",
   "mimetype": "text/x-python",
   "name": "python",
   "nbconvert_exporter": "python",
   "pygments_lexer": "ipython3",
   "version": "3.13.2"
  }
 },
 "nbformat": 4,
 "nbformat_minor": 5
}
