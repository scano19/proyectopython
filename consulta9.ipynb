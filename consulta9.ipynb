{
 "cells": [
  {
   "cell_type": "code",
   "execution_count": 3,
   "id": "c1bdb977",
   "metadata": {},
   "outputs": [
    {
     "name": "stdout",
     "output_type": "stream",
     "text": [
      "['gato', 'perro', 'hamster', 'loro']\n"
     ]
    }
   ],
   "source": [
    "#escribe una función que tome una lista de nombres de mascotas como parametro y devuelva una nueva lista excluyendo ciertas mascotas\n",
    "def filtrar_mascotas(lista_mascotas):\n",
    "    # las mascotas a excluir con la funcion filter\n",
    "    mascotas_a_excluir = [\"mapache\", \"tigre\", \"serpiente pitón\", \"cocodrilo\",\"oso\"]\n",
    "    return list(filter(lambda mascota: mascota not in mascotas_a_excluir, lista_mascotas))\n",
    "\n",
    "# Ejemplo\n",
    "mascotas = [\"gato\", \"perro\", \"hamster\", \"loro\", \"tigre\"]\n",
    "print(filtrar_mascotas(mascotas))"
   ]
  }
 ],
 "metadata": {
  "kernelspec": {
   "display_name": "Python 3",
   "language": "python",
   "name": "python3"
  },
  "language_info": {
   "codemirror_mode": {
    "name": "ipython",
    "version": 3
   },
   "file_extension": ".py",
   "mimetype": "text/x-python",
   "name": "python",
   "nbconvert_exporter": "python",
   "pygments_lexer": "ipython3",
   "version": "3.13.2"
  }
 },
 "nbformat": 4,
 "nbformat_minor": 5
}
