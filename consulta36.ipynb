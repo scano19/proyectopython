{
 "cells": [
  {
   "cell_type": "code",
   "execution_count": null,
   "id": "88f0a414",
   "metadata": {},
   "outputs": [],
   "source": []
  },
  {
   "cell_type": "code",
   "execution_count": 15,
   "id": "57063163",
   "metadata": {},
   "outputs": [
    {
     "name": "stdout",
     "output_type": "stream",
     "text": [
      "Después de agregar 20 a Bob: Usuario: Bob, Saldo: 70, Cuenta corriente: True\n",
      "Error: Bob no tiene suficiente saldo para transferir 80.\n"
     ]
    }
   ],
   "source": [
    "class UsuarioBanco:\n",
    "    def __init__(self, nombre, saldo, cuenta_corriente):\n",
    "        # Inicializamos los atributos\n",
    "        self.nombre = nombre\n",
    "        self.saldo = saldo\n",
    "        self.cuenta_corriente = cuenta_corriente\n",
    "    \n",
    "    def retirar_dinero(self, cantidad):\n",
    "        # Verificamos si la operación es válida\n",
    "        if not self.cuenta_corriente:\n",
    "            raise ValueError(f\"{self.nombre} no tiene cuenta corriente.\")\n",
    "        if cantidad <= 0:\n",
    "            raise ValueError(\"La cantidad a retirar debe ser positiva.\")\n",
    "        if cantidad > self.saldo:\n",
    "            raise ValueError(f\"{self.nombre} no tiene suficiente saldo para retirar {cantidad}.\")\n",
    "        self.saldo -= cantidad\n",
    "    \n",
    "    def transferir_dinero(self, otro_usuario, cantidad):\n",
    "        # Verificamos si la transferencia es válida\n",
    "        if not self.cuenta_corriente or not otro_usuario.cuenta_corriente:\n",
    "            raise ValueError(\"Ambos usuarios deben tener cuenta corriente.\")\n",
    "        if cantidad <= 0:\n",
    "            raise ValueError(\"La cantidad a transferir debe ser positiva.\")\n",
    "        if cantidad > otro_usuario.saldo:\n",
    "            raise ValueError(f\"{otro_usuario.nombre} no tiene suficiente saldo para transferir {cantidad}.\")\n",
    "        otro_usuario.saldo -= cantidad\n",
    "        self.saldo += cantidad\n",
    "    \n",
    "    def agregar_dinero(self, cantidad):\n",
    "        # Agregamos dinero al saldo\n",
    "        if cantidad <= 0:\n",
    "            raise ValueError(\"La cantidad a agregar debe ser positiva.\")\n",
    "        self.saldo += cantidad\n",
    "    \n",
    "    def __str__(self):\n",
    "        # Método para mostrar información del usuario\n",
    "        return (f\"Usuario: {self.nombre}, Saldo: {self.saldo}, Cuenta corriente: {self.cuenta_corriente}\")\n",
    "\n",
    "# Caso de uso\n",
    "def caso_uso():\n",
    "    # 1. Crear dos usuarios\n",
    "    alicia = UsuarioBanco(\"Alicia\", 100, True)\n",
    "    bob = UsuarioBanco(\"Bob\", 50, True)\n",
    "    \n",
    "    # 2. Agregar 20 unidades al saldo de Bob\n",
    "    bob.agregar_dinero(20)\n",
    "    print(f\"Después de agregar 20 a Bob: {bob}\")\n",
    "\n",
    "    # 3. Transferir 80 unidades desde Bob a Alicia\n",
    "    alicia.transferir_dinero(bob, 80)\n",
    "    print(f\"Después de transferir 80 de Bob a Alicia: {alicia}, {bob}\")\n",
    "    \n",
    "    # 4. Retirar 50 unidades del saldo de Alicia\n",
    "    alicia.retirar_dinero(50)\n",
    "    print(f\"Después de retirar 50 de Alicia: {alicia}\")\n",
    "\n",
    "# Ejecutar el caso de uso\n",
    "try:\n",
    "    caso_uso()\n",
    "except ValueError as e:\n",
    "    print(f\"Error: {e}\")"
   ]
  }
 ],
 "metadata": {
  "kernelspec": {
   "display_name": "Python 3",
   "language": "python",
   "name": "python3"
  },
  "language_info": {
   "codemirror_mode": {
    "name": "ipython",
    "version": 3
   },
   "file_extension": ".py",
   "mimetype": "text/x-python",
   "name": "python",
   "nbconvert_exporter": "python",
   "pygments_lexer": "ipython3",
   "version": "3.13.2"
  }
 },
 "nbformat": 4,
 "nbformat_minor": 5
}
