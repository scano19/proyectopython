{
 "cells": [
  {
   "cell_type": "code",
   "execution_count": null,
   "id": "e22ed9f4",
   "metadata": {},
   "outputs": [
    {
     "name": "stdout",
     "output_type": "stream",
     "text": [
      "lista de tuplas resultantes: [('A', 'a'), ('B', 'b'), ('C', 'c')]\n"
     ]
    }
   ],
   "source": [
    "#genera una función para un conjunto de caracteres, devuelva una lista de tuplas con cada letra en mayusculas y minusculas\n",
    "def letras_mayus_minus(conjunto):\n",
    "    return list(map(lambda letra: (letra.upper(), letra.lower()), conjunto))\n",
    "conjunto = \"abc\"\n",
    "print(f\"lista de tuplas resultantes: {letras_mayus_minus(conjunto)}\")\n"
   ]
  }
 ],
 "metadata": {
  "kernelspec": {
   "display_name": "Python 3",
   "language": "python",
   "name": "python3"
  },
  "language_info": {
   "codemirror_mode": {
    "name": "ipython",
    "version": 3
   },
   "file_extension": ".py",
   "mimetype": "text/x-python",
   "name": "python",
   "nbconvert_exporter": "python",
   "pygments_lexer": "ipython3",
   "version": "3.13.2"
  }
 },
 "nbformat": 4,
 "nbformat_minor": 5
}
