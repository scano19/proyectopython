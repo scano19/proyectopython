{
 "cells": [
  {
   "cell_type": "code",
   "execution_count": 7,
   "id": "35bc7e4b",
   "metadata": {},
   "outputs": [
    {
     "name": "stdout",
     "output_type": "stream",
     "text": [
      "La calificación es: Bien\n"
     ]
    }
   ],
   "source": [
    "def determinar_calificacion(calificacion):\n",
    "    try:\n",
    "        # Convertimos la entrada a flotante\n",
    "        calif = float(calificacion)\n",
    "        \n",
    "        # Validamos el rango\n",
    "        if not (0 <= calif <= 100):\n",
    "            raise ValueError(\"La calificación debe estar entre 0 y 100.\")\n",
    "        \n",
    "        # Determinamos la calificación en texto\n",
    "        if 0 <= calif <= 69:\n",
    "            return \"Insuficiente\"\n",
    "        elif 70 <= calif <= 79:\n",
    "            return \"Bien\"\n",
    "        elif 80 <= calif <= 89:\n",
    "            return \"Muy bien\"\n",
    "        else:  # 90 <= calif <= 100\n",
    "            return \"Excelente\"\n",
    "    \n",
    "    except ValueError as e:\n",
    "        return f\"Error: {e}. Por favor, ingrese un número entre 0 y 100.\"\n",
    "\n",
    "def main():\n",
    "    # Solicitamos la calificación\n",
    "    calificacion = input(\"Ingrese la calificación numérica (0-100): \")\n",
    "    resultado = determinar_calificacion(calificacion)\n",
    "    print(f\"La calificación es: {resultado}\")\n",
    "\n",
    "# Ejecutar el programa\n",
    "main()\n"
   ]
  }
 ],
 "metadata": {
  "kernelspec": {
   "display_name": "Python 3",
   "language": "python",
   "name": "python3"
  },
  "language_info": {
   "codemirror_mode": {
    "name": "ipython",
    "version": 3
   },
   "file_extension": ".py",
   "mimetype": "text/x-python",
   "name": "python",
   "nbconvert_exporter": "python",
   "pygments_lexer": "ipython3",
   "version": "3.13.2"
  }
 },
 "nbformat": 4,
 "nbformat_minor": 5
}
