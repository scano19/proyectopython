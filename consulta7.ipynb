{
 "cells": [
  {
   "cell_type": "code",
   "execution_count": 4,
   "id": "6b4edd8b",
   "metadata": {},
   "outputs": [
    {
     "name": "stdout",
     "output_type": "stream",
     "text": [
      "['1 - 2', '3 - 4', '5 - 6']\n"
     ]
    }
   ],
   "source": [
    "def tupla_a_strings(lista_tuplas):\n",
    "    # Convierte cada elemento de la tupla a string usando map\n",
    "    resultado = list(map(lambda tupla: f\"{tupla[0]} - {tupla[1]}\", lista_tuplas))\n",
    "    return resultado\n",
    "\n",
    "# Ejemplo\n",
    "lista_tuplas = ((1, 2), (3, 4), (5, 6))\n",
    "print(tupla_a_strings(lista_tuplas))"
   ]
  }
 ],
 "metadata": {
  "kernelspec": {
   "display_name": "Python 3",
   "language": "python",
   "name": "python3"
  },
  "language_info": {
   "codemirror_mode": {
    "name": "ipython",
    "version": 3
   },
   "file_extension": ".py",
   "mimetype": "text/x-python",
   "name": "python",
   "nbconvert_exporter": "python",
   "pygments_lexer": "ipython3",
   "version": "3.13.2"
  }
 },
 "nbformat": 4,
 "nbformat_minor": 5
}
