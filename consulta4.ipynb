{
 "cells": [
  {
   "cell_type": "code",
   "execution_count": 1,
   "id": "cb9e25e1",
   "metadata": {},
   "outputs": [
    {
     "name": "stdout",
     "output_type": "stream",
     "text": [
      "[9, 18, 27]\n"
     ]
    }
   ],
   "source": [
    "#calcular la diferencia de los valores de dos listas\n",
    "#uso la función map()\n",
    "def calcular_diferencia_map(lista1, lista2):\n",
    "    return list(map(lambda a, b: a - b, lista1, lista2))\n",
    "lista1 = [10, 20, 30]\n",
    "lista2 = [1, 2, 3]\n",
    "print(calcular_diferencia_map(lista1, lista2))\n",
    "\n"
   ]
  }
 ],
 "metadata": {
  "kernelspec": {
   "display_name": "Python 3",
   "language": "python",
   "name": "python3"
  },
  "language_info": {
   "codemirror_mode": {
    "name": "ipython",
    "version": 3
   },
   "file_extension": ".py",
   "mimetype": "text/x-python",
   "name": "python",
   "nbconvert_exporter": "python",
   "pygments_lexer": "ipython3",
   "version": "3.13.2"
  }
 },
 "nbformat": 4,
 "nbformat_minor": 5
}
