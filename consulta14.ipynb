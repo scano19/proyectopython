{
 "cells": [
  {
   "cell_type": "code",
   "execution_count": 2,
   "id": "a7284663",
   "metadata": {},
   "outputs": [
    {
     "name": "stdout",
     "output_type": "stream",
     "text": [
      "['día', 'a', 'la', 'playa', 'al', 'atardecer']\n"
     ]
    }
   ],
   "source": [
    "#genera una función que retorne las palabras de una lista de palabras que contengan una letra específica\n",
    "def palabras_con_letra(palabras, letra):\n",
    "    return list(filter(lambda palabra: letra in palabra, palabras))\n",
    "frase = \"el otro día fuimos a la playa al atardecer\"\n",
    "print(palabras_con_letra(frase.split(), \"a\"))\n"
   ]
  }
 ],
 "metadata": {
  "kernelspec": {
   "display_name": "Python 3",
   "language": "python",
   "name": "python3"
  },
  "language_info": {
   "codemirror_mode": {
    "name": "ipython",
    "version": 3
   },
   "file_extension": ".py",
   "mimetype": "text/x-python",
   "name": "python",
   "nbconvert_exporter": "python",
   "pygments_lexer": "ipython3",
   "version": "3.13.7"
  }
 },
 "nbformat": 4,
 "nbformat_minor": 5
}
