{
 "cells": [
  {
   "cell_type": "code",
   "execution_count": 4,
   "id": "8273a9dc",
   "metadata": {},
   "outputs": [
    {
     "name": "stdout",
     "output_type": "stream",
     "text": [
      "Contar palabras:\n",
      "{'hola': 3, 'mundo': 1, 'python': 2}\n",
      "\n",
      "Reemplazar 'hola' por 'saludo':\n",
      "saludo mundo saludo Python python saludo\n",
      "\n",
      "Eliminar 'python':\n",
      "Hola mundo hola HOLA\n"
     ]
    }
   ],
   "source": [
    "def contar_palabras(texto):\n",
    "    # Dividimos el texto en palabras (ignoramos mayúsculas y puntuación básica)\n",
    "    palabras = texto.lower().split()\n",
    "    # Creamos un diccionario con el conteo de cada palabra\n",
    "    conteo = {}\n",
    "    for palabra in palabras:\n",
    "        if palabra:  # Ignoramos palabras vacías\n",
    "            conteo[palabra] = conteo.get(palabra, 0) + 1\n",
    "    return conteo\n",
    "\n",
    "def reemplazar_palabras(texto, palabra_original, palabra_nueva):\n",
    "    # Reemplazamos palabra_original por palabra_nueva (insensible a mayúsculas)\n",
    "    palabras = texto.split()\n",
    "    resultado = [palabra_nueva if palabra.lower() == palabra_original.lower() else palabra for palabra in palabras]\n",
    "    return ' '.join(resultado)\n",
    "\n",
    "def eliminar_palabra(texto, palabra):\n",
    "    # Eliminamos todas las apariciones de la palabra (insensible a mayúsculas)\n",
    "    palabras = texto.split()\n",
    "    resultado = [p for p in palabras if p.lower() != palabra.lower()]\n",
    "    return ' '.join(resultado)\n",
    "\n",
    "def procesar_texto(texto, opcion, *args):\n",
    "    # Procesamos según la opción\n",
    "    if opcion == \"contar\":\n",
    "        return contar_palabras(texto)\n",
    "    elif opcion == \"reemplazar\":\n",
    "        if len(args) != 2:\n",
    "            raise ValueError(\"La opción 'reemplazar' requiere dos argumentos: palabra_original y palabra_nueva\")\n",
    "        return reemplazar_palabras(texto, args[0], args[1])\n",
    "    elif opcion == \"eliminar\":\n",
    "        if len(args) != 1:\n",
    "            raise ValueError(\"La opción 'eliminar' requiere un argumento: palabra a eliminar\")\n",
    "        return eliminar_palabra(texto, args[0])\n",
    "    else:\n",
    "        raise ValueError(\"Opción inválida. Use 'contar', 'reemplazar' o 'eliminar'\")\n",
    "\n",
    "# Caso de uso\n",
    "def caso_uso():\n",
    "    texto = \"Hola mundo hola Python python HOLA\"\n",
    "    \n",
    "    # 1. Contar palabras\n",
    "    print(\"Contar palabras:\")\n",
    "    print(procesar_texto(texto, \"contar\"))\n",
    "    \n",
    "    # 2. Reemplazar 'hola' por 'saludo'\n",
    "    print(\"\\nReemplazar 'hola' por 'saludo':\")\n",
    "    print(procesar_texto(texto, \"reemplazar\", \"hola\", \"saludo\"))\n",
    "    \n",
    "    # 3. Eliminar 'python'\n",
    "    print(\"\\nEliminar 'python':\")\n",
    "    print(procesar_texto(texto, \"eliminar\", \"python\"))\n",
    "\n",
    "# Ejecutar el caso de uso\n",
    "try:\n",
    "    caso_uso()\n",
    "except ValueError as e:\n",
    "    print(f\"Error: {e}\")"
   ]
  }
 ],
 "metadata": {
  "kernelspec": {
   "display_name": "Python 3",
   "language": "python",
   "name": "python3"
  },
  "language_info": {
   "codemirror_mode": {
    "name": "ipython",
    "version": 3
   },
   "file_extension": ".py",
   "mimetype": "text/x-python",
   "name": "python",
   "nbconvert_exporter": "python",
   "pygments_lexer": "ipython3",
   "version": "3.13.2"
  }
 },
 "nbformat": 4,
 "nbformat_minor": 5
}
