{
 "cells": [
  {
   "cell_type": "code",
   "execution_count": 5,
   "id": "4e88881c",
   "metadata": {},
   "outputs": [
    {
     "name": "stdout",
     "output_type": "stream",
     "text": [
      "El resultado de la división es: 0.5555555555555556\n"
     ]
    }
   ],
   "source": [
    "#Escribe una función que pida al usuario dos números e intente dividirlos\n",
    "def dividir_numeros():\n",
    "    try:\n",
    "        num1 = float(input(\"Introduce el primer número: \"))\n",
    "        num2 = float(input(\"Introduce el segundo número: \"))\n",
    "        resultado = num1 / num2\n",
    "    except ZeroDivisionError:\n",
    "        return \"Error: División por cero no permitida.\"\n",
    "    except ValueError:\n",
    "        return \"Error: Entrada no válida.\"\n",
    "    else:\n",
    "        return f\"El resultado de la división es: {resultado}\"\n",
    "print(dividir_numeros())"
   ]
  }
 ],
 "metadata": {
  "kernelspec": {
   "display_name": "Python 3",
   "language": "python",
   "name": "python3"
  },
  "language_info": {
   "codemirror_mode": {
    "name": "ipython",
    "version": 3
   },
   "file_extension": ".py",
   "mimetype": "text/x-python",
   "name": "python",
   "nbconvert_exporter": "python",
   "pygments_lexer": "ipython3",
   "version": "3.13.2"
  }
 },
 "nbformat": 4,
 "nbformat_minor": 5
}
