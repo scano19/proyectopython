{
 "cells": [
  {
   "cell_type": "code",
   "execution_count": 1,
   "id": "b084e72f",
   "metadata": {},
   "outputs": [
    {
     "name": "stdout",
     "output_type": "stream",
     "text": [
      "[{'nombre': 'Maria', 'edad': 22, 'calificacion': 90}]\n"
     ]
    }
   ],
   "source": [
    "#escribe un programa en python que cree una lista de diccionarios que contenga información de estudiantes (nombre, edad,calificacion)\n",
    "estudiantes = [\n",
    "    {\"nombre\": \"Juan\", \"edad\": 20, \"calificacion\": 85},\n",
    "    {\"nombre\": \"Maria\", \"edad\": 22, \"calificacion\": 90},\n",
    "    {\"nombre\": \"Pedro\", \"edad\": 21, \"calificacion\": 78}\n",
    "]\n",
    "print(list(filter(lambda estudiante: estudiante[\"calificacion\"] >= 90, estudiantes)))"
   ]
  }
 ],
 "metadata": {
  "kernelspec": {
   "display_name": "Python 3",
   "language": "python",
   "name": "python3"
  },
  "language_info": {
   "codemirror_mode": {
    "name": "ipython",
    "version": 3
   },
   "file_extension": ".py",
   "mimetype": "text/x-python",
   "name": "python",
   "nbconvert_exporter": "python",
   "pygments_lexer": "ipython3",
   "version": "3.13.2"
  }
 },
 "nbformat": 4,
 "nbformat_minor": 5
}
