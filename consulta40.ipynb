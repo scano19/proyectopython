{
 "cells": [
  {
   "cell_type": "code",
   "execution_count": 5,
   "id": "becf4746",
   "metadata": {},
   "outputs": [
    {
     "name": "stdout",
     "output_type": "stream",
     "text": [
      "Área de rectangulo: 10.0\n"
     ]
    }
   ],
   "source": [
    "import math\n",
    "\n",
    "def calcular_area(figura, datos):\n",
    "    try:\n",
    "        # Validamos la figura\n",
    "        figura = figura.lower()\n",
    "        if figura not in [\"rectangulo\", \"circulo\", \"triangulo\"]:\n",
    "            raise ValueError(\"Figura inválida. Use 'rectangulo', 'circulo' o 'triangulo'.\")\n",
    "        \n",
    "        # Validamos los datos\n",
    "        if figura == \"circulo\":\n",
    "            if len(datos) != 1:\n",
    "                raise ValueError(\"El círculo requiere un solo dato: el radio.\")\n",
    "            radio = float(datos[0])\n",
    "            if radio <= 0:\n",
    "                raise ValueError(\"El radio debe ser positivo.\")\n",
    "            return math.pi * radio ** 2\n",
    "        else:  # rectangulo o triangulo\n",
    "            if len(datos) != 2:\n",
    "                raise ValueError(f\"{figura.capitalize()} requiere dos datos: base y altura.\")\n",
    "            base, altura = map(float, datos)\n",
    "            if base <= 0 or altura <= 0:\n",
    "                raise ValueError(\"Base y altura deben ser positivos.\")\n",
    "            return base * altura if figura == \"rectangulo\" else (base * altura) / 2\n",
    "    \n",
    "    except (ValueError, TypeError) as e:\n",
    "        return f\"Error: {e}. Por favor, ingrese datos válidos.\"\n",
    "\n",
    "\n",
    "# ejemplo\n",
    "def main():\n",
    "    try:\n",
    "        figura = input(\"Ingrese la figura (rectangulo, circulo, triangulo): \").lower()\n",
    "        if figura == \"circulo\":\n",
    "            radio = input(\"Ingrese el radio: \")\n",
    "            datos = (float(radio),)\n",
    "        else:\n",
    "            base = input(\"Ingrese la base: \")\n",
    "            altura = input(\"Ingrese la altura: \")\n",
    "            datos = (float(base), float(altura))\n",
    "        print(f\"Área de {figura}: {calcular_area(figura, datos)}\")\n",
    "    except ValueError as e:\n",
    "        print(f\"Error: {e}. Por favor, ingrese datos válidos.\")\n",
    "\n",
    "main()"
   ]
  },
  {
   "cell_type": "code",
   "execution_count": null,
   "id": "ac7096f4",
   "metadata": {},
   "outputs": [],
   "source": []
  }
 ],
 "metadata": {
  "kernelspec": {
   "display_name": "Python 3",
   "language": "python",
   "name": "python3"
  },
  "language_info": {
   "codemirror_mode": {
    "name": "ipython",
    "version": 3
   },
   "file_extension": ".py",
   "mimetype": "text/x-python",
   "name": "python",
   "nbconvert_exporter": "python",
   "pygments_lexer": "ipython3",
   "version": "3.13.2"
  }
 },
 "nbformat": 4,
 "nbformat_minor": 5
}
