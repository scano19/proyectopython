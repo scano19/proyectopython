{
 "cells": [
  {
   "cell_type": "code",
   "execution_count": 12,
   "id": "fa14cdd7",
   "metadata": {},
   "outputs": [
    {
     "name": "stdout",
     "output_type": "stream",
     "text": [
      "El nombre %&$ no está en la lista.\n"
     ]
    }
   ],
   "source": [
    "def buscar_nombre():\n",
    "    # Solicitar la lista de nombres\n",
    "    entrada = input(\"Ingrese una lista de nombres separados por espacios: \")\n",
    "    lista_nombres = entrada.split()  # Divide la entrada en una lista\n",
    "    \n",
    "    # Solicitar el nombre a buscar\n",
    "    nombre_buscar = input(\"Ingrese el nombre a buscar: \")\n",
    "    \n",
    "    # Verificar si el nombre está en la lista\n",
    "    if nombre_buscar in lista_nombres:\n",
    "        print(f\"El nombre {nombre_buscar} fue encontrado.\")\n",
    "    else:\n",
    "        raise ValueError(f\"El nombre {nombre_buscar} no está en la lista.\")\n",
    "\n",
    "try:\n",
    "    buscar_nombre()\n",
    "except ValueError as fallo:\n",
    "    print(fallo)"
   ]
  }
 ],
 "metadata": {
  "kernelspec": {
   "display_name": "Python 3",
   "language": "python",
   "name": "python3"
  },
  "language_info": {
   "codemirror_mode": {
    "name": "ipython",
    "version": 3
   },
   "file_extension": ".py",
   "mimetype": "text/x-python",
   "name": "python",
   "nbconvert_exporter": "python",
   "pygments_lexer": "ipython3",
   "version": "3.13.2"
  }
 },
 "nbformat": 4,
 "nbformat_minor": 5
}
