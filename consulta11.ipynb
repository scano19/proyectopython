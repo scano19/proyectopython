{
 "cells": [
  {
   "cell_type": "code",
   "execution_count": 1,
   "id": "b7cdb2a8",
   "metadata": {},
   "outputs": [
    {
     "name": "stdout",
     "output_type": "stream",
     "text": [
      "Tu edad es: 15\n"
     ]
    }
   ],
   "source": [
    "#escribe un programa que pida la usuario que introduzca su edad\n",
    "try:\n",
    "    edad = int(input(\"Por favor, introduce tu edad: \"))\n",
    "    if edad < 0 or edad > 120:\n",
    "       raise ValueError(\"Edad fuera de rango.\")\n",
    "except ValueError as error:\n",
    "    print(f\"Error: {error}\")\n",
    "else:\n",
    "    print(f\"Tu edad es: {edad}\")\n"
   ]
  }
 ],
 "metadata": {
  "kernelspec": {
   "display_name": "Python 3",
   "language": "python",
   "name": "python3"
  },
  "language_info": {
   "codemirror_mode": {
    "name": "ipython",
    "version": 3
   },
   "file_extension": ".py",
   "mimetype": "text/x-python",
   "name": "python",
   "nbconvert_exporter": "python",
   "pygments_lexer": "ipython3",
   "version": "3.13.7"
  }
 },
 "nbformat": 4,
 "nbformat_minor": 5
}
